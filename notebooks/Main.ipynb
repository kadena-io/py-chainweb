{
 "cells": [
  {
   "cell_type": "code",
   "execution_count": 1,
   "metadata": {},
   "outputs": [],
   "source": [
    "# %pip install -q -r requirements.txt"
   ]
  },
  {
   "cell_type": "code",
   "execution_count": 2,
   "metadata": {},
   "outputs": [],
   "source": [
    "import sys\n",
    "from pathlib import Path\n",
    "sys.path.append(str(Path.cwd().parent))"
   ]
  },
  {
   "cell_type": "code",
   "execution_count": 3,
   "metadata": {},
   "outputs": [],
   "source": [
    "from typing import Iterator\n",
    "import os\n",
    "from itertools import islice\n",
    "from dotenv import load_dotenv"
   ]
  },
  {
   "cell_type": "code",
   "execution_count": 4,
   "metadata": {},
   "outputs": [],
   "source": [
    "from chainweb.chaindb import ProvideChainwebDb\n",
    "from chainweb.primitives import read_hash\n",
    "from chainweb.header import Header\n",
    "from chainweb.payload import BlockPayload\n",
    "from chainweb.primitives import ChainId"
   ]
  },
  {
   "cell_type": "code",
   "execution_count": 5,
   "metadata": {},
   "outputs": [],
   "source": [
    "%load_ext autoreload\n",
    "%autoreload 2"
   ]
  },
  {
   "cell_type": "code",
   "execution_count": 6,
   "metadata": {},
   "outputs": [
    {
     "data": {
      "text/plain": [
       "True"
      ]
     },
     "execution_count": 6,
     "metadata": {},
     "output_type": "execute_result"
    }
   ],
   "source": [
    "load_dotenv()"
   ]
  },
  {
   "cell_type": "markdown",
   "metadata": {},
   "source": [
    "# Chainweb DB Tests"
   ]
  },
  {
   "cell_type": "code",
   "execution_count": 7,
   "metadata": {},
   "outputs": [],
   "source": [
    "dbPath = os.getenv('CHAINWEB_DB_PATH')\n",
    "network = os.getenv('CHAINWEB_NETWORK')"
   ]
  },
  {
   "cell_type": "code",
   "execution_count": 8,
   "metadata": {},
   "outputs": [],
   "source": [
    "# Tests\n",
    "from chainweb.payload import get_meta\n",
    "\n",
    "with ProvideChainwebDb(dbPath) as db:\n",
    "    for k,v in db.headers[0]:\n",
    "        assert k == v.height\n",
    "        assert v == db.headers[0].get(k, v.hash)\n",
    "        p = db.payload_data_with_outputs.get(k, v.payload_hash)\n",
    "        assert p.payload_hash == v.payload_hash\n",
    "        if len(p.transactions) > 0:\n",
    "            tin = p.transactions[0][0]\n",
    "            tout = p.transactions[0][1]\n",
    "            cmd = tin['cmd']\n",
    "            if cmd[\"networkId\"] is not None:\n",
    "                assert cmd[\"networkId\"] == network\n",
    "            meta = get_meta(tin)\n",
    "            if meta['creationTime'] > 0:\n",
    "                assert int(meta[\"chainId\"]) == v.chain_id\n",
    "                assert meta[\"creationTime\"] < v.creation_time"
   ]
  },
  {
   "cell_type": "code",
   "execution_count": 9,
   "metadata": {},
   "outputs": [],
   "source": [
    "with ProvideChainwebDb(dbPath) as db:\n",
    "    h1_hex = list(islice(db.headers[0],1,2))[0][1].hash.hex()\n",
    "\n",
    "h1 = read_hash(h1_hex)\n",
    "\n",
    "with ProvideChainwebDb(dbPath) as db:\n",
    "    h1_ = db.headers[0].get(1,h1)\n",
    "    assert h1_.hash == h1\n",
    "    assert h1_.height == 1"
   ]
  },
  {
   "cell_type": "code",
   "execution_count": 10,
   "metadata": {},
   "outputs": [
    {
     "name": "stdout",
     "output_type": "stream",
     "text": [
      "0 Header(headerbytes=b'\\x00\\x00\\x00\\x00\\x00\\x00\\x00\\x00\\x08}e\\xa9\\xe4\\x8d\\x05\\x00\\xd3\\xfc\\x00\\xaf\\x01\\xde\\xb0\\x94\\x00\\xc2\\x00\\x93\\xb5\\t \\xc0PP\\x1e\\xe9\\x8f\\x85\\xe2\\xb92|\\xe3_\\xba\\x9b`L\\x03\\x00\\x05\\x00\\x00\\x00\\xe3\\x94\\x8e\\xed$D\\xbd\\xac\\xaa\\t\\xbbt\\niD\\xb2\\xa7\\x1a\\xc8\\xc8\\xf6\\xfb\\x83\\xdb\\x9b\\x82M\\xb5o%c*\\n\\x00\\x00\\x00\\xe4\\xb6H\\xf3\\xda\\x83y\\xa3J\\x16\\xbb\\x80\\x87\\x91\\x96O\\xb7\\xf5\\xf1\\x1e\\xc8i\\xe808\\x93X\\x84\\x93\\xd2w\\x0c\\x0f\\x00\\x00\\x00\\xcf\\xe1t\\x80\\x8c\\x1aeeY\\x83\\x99{\\xb4\\xb9\\xb7\\xd7\\x8a\\xb7.\\xd0\\xe3\\xba0\\xc4lZ0\\xf8\\xdfUl^\\xa02\\xfe}\\xc6\\x85\\x03!Y\\xc0\\x04n\\xdd\\xcdS\\x1dr3\\xdc\\x80\\xcf\\x0f#\\x84G\\x1bG\\xac\\xc5\\xa7\\x00\\x00C<U\\x1cVy\\x82\\x8e\\x0fa\\xdd\\xd0x\\x06a\\xc4\\xfe\\xb5\\x86\\xc5g #\\xf0\\xe0\\x10}\\x87\\xe4\\xf7<3\\x00\\x00\\x00\\x00\\x00\\x00\\x00\\x00\\x00\\x00\\x00\\x00\\x00\\x00\\x00\\x00\\x00\\x00\\x00\\x00\\x00\\x00\\x00\\x00\\x00\\x00\\x00\\x00\\x00\\x00\\x00\\x00\\x00\\x00\\x00\\x00\\x00\\x00\\x00\\x00\\x00\\x00\\x00\\x00\\x02\\x00\\x00\\x00\\x08}e\\xa9\\xe4\\x8d\\x05\\x00\\x00\\x00\\x00\\x00\\x00\\x00\\x00\\x00\\xc2\\x85\\xb1~\\xece+2\\xab\\xf5\\x86\\xd5ON\\xda*\\xa2\\xbe\\xcee\\xd5!g\\x18\\x93\\x131\\x8c\\xda\\xc17\\xbb', feature_flags=0, creation_time=1563388117613832, parent=b'\\xd3\\xfc\\x00\\xaf\\x01\\xde\\xb0\\x94\\x00\\xc2\\x00\\x93\\xb5\\t \\xc0PP\\x1e\\xe9\\x8f\\x85\\xe2\\xb92|\\xe3_\\xba\\x9b`L', adjacents={5: b'\\xe3\\x94\\x8e\\xed$D\\xbd\\xac\\xaa\\t\\xbbt\\niD\\xb2\\xa7\\x1a\\xc8\\xc8\\xf6\\xfb\\x83\\xdb\\x9b\\x82M\\xb5o%c*', 10: b'\\xe4\\xb6H\\xf3\\xda\\x83y\\xa3J\\x16\\xbb\\x80\\x87\\x91\\x96O\\xb7\\xf5\\xf1\\x1e\\xc8i\\xe808\\x93X\\x84\\x93\\xd2w\\x0c', 15: b'\\xcf\\xe1t\\x80\\x8c\\x1aeeY\\x83\\x99{\\xb4\\xb9\\xb7\\xd7\\x8a\\xb7.\\xd0\\xe3\\xba0\\xc4lZ0\\xf8\\xdfUl^'}, target=b'\\xa02\\xfe}\\xc6\\x85\\x03!Y\\xc0\\x04n\\xdd\\xcdS\\x1dr3\\xdc\\x80\\xcf\\x0f#\\x84G\\x1bG\\xac\\xc5\\xa7\\x00\\x00', payload_hash=b'C<U\\x1cVy\\x82\\x8e\\x0fa\\xdd\\xd0x\\x06a\\xc4\\xfe\\xb5\\x86\\xc5g #\\xf0\\xe0\\x10}\\x87\\xe4\\xf7<3', chain_id=0, weight=b'\\x00\\x00\\x00\\x00\\x00\\x00\\x00\\x00\\x00\\x00\\x00\\x00\\x00\\x00\\x00\\x00\\x00\\x00\\x00\\x00\\x00\\x00\\x00\\x00\\x00\\x00\\x00\\x00\\x00\\x00\\x00\\x00', height=0, chainweb_version=2, epoch_start=1563388117613832, nonce=b'\\x00\\x00\\x00\\x00\\x00\\x00\\x00\\x00', hash=b'\\xc2\\x85\\xb1~\\xece+2\\xab\\xf5\\x86\\xd5ON\\xda*\\xa2\\xbe\\xcee\\xd5!g\\x18\\x93\\x131\\x8c\\xda\\xc17\\xbb', ADJACENT_COUNT=3, SIZE_IN_BYTES=318) BlockPayload(payload_hash=b'C<U\\x1cVy\\x82\\x8e\\x0fa\\xdd\\xd0x\\x06a\\xc4\\xfe\\xb5\\x86\\xc5g #\\xf0\\xe0\\x10}\\x87\\xe4\\xf7<3', transactions_hash=b'_\\xcb\\xe1\\x88Y\\xf3igC\\xab\\xe6\\xbcO\\x82\\xb1\\x93iSz\\x7f\\xcc8\\xa2\\x054\\xdc\\xbd\\xffU\\xbc77', outputs_hash=b'yQy\\x83k_\\xe3\\xf9\\xad\\x01)\\rw\\x9e\\xc3\\xe8\\xb2_\\x8by*\\x80\\x9e\\x15\\xad\\xbfm\\xd5\\xab\\xf6\\xa4s', SIZE_IN_BYTES=96)\n",
      "1 Header(headerbytes=b'\\x00\\x00\\x00\\x00\\x00\\x00\\x00\\x00\\x1d6\\ru$\\x19\\x06\\x00\\xc2\\x85\\xb1~\\xece+2\\xab\\xf5\\x86\\xd5ON\\xda*\\xa2\\xbe\\xcee\\xd5!g\\x18\\x93\\x131\\x8c\\xda\\xc17\\xbb\\x03\\x00\\x05\\x00\\x00\\x00\\xfd+\\x95\\xd4\\x95\\xb1\\xe0\\xc8\\xb9/\\xbf\\x9c\\x03\\x8a\"\\x0b@\\x90\\x17\\xbdyY\\x89\\xfe}\\x7f\\xf1$J\\xd3\\x06\\xfa\\n\\x00\\x00\\x00\\x0f>;\\xc0\\xc7\\xd9m\\x1d\\x10\\x1cS\\xba\\xea\\xa4m\\xfe\\xbbmF\\x8f\\x08\\xae+\\x1f\\xec!\\xd3\\x0c\\xfa2#\\x97\\x0f\\x00\\x00\\x00\\x90\\xdc\\xc7t\\x17<\\xd1\\xa8\\xd0\\xe6\\xf6Bg\\xd4\\xb9\\x02\\'\\xde\\xcd\\x1e\\xddJ\\xfd\\xfc\\xf5\\xe0$\\\\l=I,\\xa02\\xfe}\\xc6\\x85\\x03!Y\\xc0\\x04n\\xdd\\xcdS\\x1dr3\\xdc\\x80\\xcf\\x0f#\\x84G\\x1bG\\xac\\xc5\\xa7\\x00\\x00\\xf2_\\xb6\\xa6\\x1cn\"5\\x8c\"\\x9eiJs\\xad\\xb1\\x03\\xf0.\\x83`\\xcf\\xbcf\\xa9\\xf3w\\x95\\xe9\\xb7\\xff\\xed\\x00\\x00\\x00\\x00\\xa0\\x86\\x01\\x00\\x00\\x00\\x00\\x00\\x00\\x00\\x00\\x00\\x00\\x00\\x00\\x00\\x00\\x00\\x00\\x00\\x00\\x00\\x00\\x00\\x00\\x00\\x00\\x00\\x00\\x00\\x00\\x00\\x01\\x00\\x00\\x00\\x00\\x00\\x00\\x00\\x02\\x00\\x00\\x00\\x08}e\\xa9\\xe4\\x8d\\x05\\x00\\x00\\x00\\x00\\x00\\x00\\x00\\x00\\x00\\xea\\xb9/\\x12\\x0bf\\xd4\\xe7\\x90\\x05\\xc9\\xe2\\x7f\\x9c\\xbdN0\\x0cm\\x86\\x0f\\xbf\\xcc\\xeb\\x1cy\\xe3\\x80?\\xe0#(', feature_flags=0, creation_time=1716494233581085, parent=b'\\xc2\\x85\\xb1~\\xece+2\\xab\\xf5\\x86\\xd5ON\\xda*\\xa2\\xbe\\xcee\\xd5!g\\x18\\x93\\x131\\x8c\\xda\\xc17\\xbb', adjacents={5: b'\\xfd+\\x95\\xd4\\x95\\xb1\\xe0\\xc8\\xb9/\\xbf\\x9c\\x03\\x8a\"\\x0b@\\x90\\x17\\xbdyY\\x89\\xfe}\\x7f\\xf1$J\\xd3\\x06\\xfa', 10: b'\\x0f>;\\xc0\\xc7\\xd9m\\x1d\\x10\\x1cS\\xba\\xea\\xa4m\\xfe\\xbbmF\\x8f\\x08\\xae+\\x1f\\xec!\\xd3\\x0c\\xfa2#\\x97', 15: b\"\\x90\\xdc\\xc7t\\x17<\\xd1\\xa8\\xd0\\xe6\\xf6Bg\\xd4\\xb9\\x02'\\xde\\xcd\\x1e\\xddJ\\xfd\\xfc\\xf5\\xe0$\\\\l=I,\"}, target=b'\\xa02\\xfe}\\xc6\\x85\\x03!Y\\xc0\\x04n\\xdd\\xcdS\\x1dr3\\xdc\\x80\\xcf\\x0f#\\x84G\\x1bG\\xac\\xc5\\xa7\\x00\\x00', payload_hash=b'\\xf2_\\xb6\\xa6\\x1cn\"5\\x8c\"\\x9eiJs\\xad\\xb1\\x03\\xf0.\\x83`\\xcf\\xbcf\\xa9\\xf3w\\x95\\xe9\\xb7\\xff\\xed', chain_id=0, weight=b'\\xa0\\x86\\x01\\x00\\x00\\x00\\x00\\x00\\x00\\x00\\x00\\x00\\x00\\x00\\x00\\x00\\x00\\x00\\x00\\x00\\x00\\x00\\x00\\x00\\x00\\x00\\x00\\x00\\x00\\x00\\x00\\x00', height=1, chainweb_version=2, epoch_start=1563388117613832, nonce=b'\\x00\\x00\\x00\\x00\\x00\\x00\\x00\\x00', hash=b'\\xea\\xb9/\\x12\\x0bf\\xd4\\xe7\\x90\\x05\\xc9\\xe2\\x7f\\x9c\\xbdN0\\x0cm\\x86\\x0f\\xbf\\xcc\\xeb\\x1cy\\xe3\\x80?\\xe0#(', ADJACENT_COUNT=3, SIZE_IN_BYTES=318) BlockPayload(payload_hash=b'\\xf2_\\xb6\\xa6\\x1cn\"5\\x8c\"\\x9eiJs\\xad\\xb1\\x03\\xf0.\\x83`\\xcf\\xbcf\\xa9\\xf3w\\x95\\xe9\\xb7\\xff\\xed', transactions_hash=b'\\xd5\\xb4\\xb3\\x04P\\xe5\\xa1\\xb4\\x83\\xdez\\xa6\\x86\\x92Sz\\x9a\\x8b;\\xdc\\x03r:\\x930\\x931?Z\\x9cq\"', outputs_hash=b'\\x92\\xa2G\\xed\\x87\\xabHE\\xf4;\\xe3)\\x98\\x19\"\\xa9\\x19pO\\x97\\x10\\x84kk\\xaf\\x1c\\x99N\\xdc,\\xac\\xda', SIZE_IN_BYTES=96)\n",
      "2 Header(headerbytes=b'\\x00\\x00\\x00\\x00\\x00\\x00\\x00\\x00}\\xe5+u$\\x19\\x06\\x00\\xea\\xb9/\\x12\\x0bf\\xd4\\xe7\\x90\\x05\\xc9\\xe2\\x7f\\x9c\\xbdN0\\x0cm\\x86\\x0f\\xbf\\xcc\\xeb\\x1cy\\xe3\\x80?\\xe0#(\\x03\\x00\\x05\\x00\\x00\\x00[\\x04@\\xbc\\xbd<\\x9d0\\xc0\\xb7x\\xdez5vDh^\\xc7--,\\xd55\\xfb\\x82\\xe5\\x96\\x07|H\\xc8\\n\\x00\\x00\\x00\\x10\\x12\\x91\\xd9G$Ru\\xf0\\xb0]\\xa5\\xaa\\x10\\x1b\\x8b\\xc1\\x1e\\x85\\xa7azC\\tK\\xdc\\x18M\\xc6\\\\D\\x10\\x0f\\x00\\x00\\x00\\x1cx\\xd3<@\\xe8\\xbb\\x84\\xc9\\xc8\\x8f>\\x1a{\\xa0y\\xb4\\xec\\x83\\xad\\xef:\\xb8{\\xcc\\x83\\x14]\\xe0\\x99k\\xaf\\xa02\\xfe}\\xc6\\x85\\x03!Y\\xc0\\x04n\\xdd\\xcdS\\x1dr3\\xdc\\x80\\xcf\\x0f#\\x84G\\x1bG\\xac\\xc5\\xa7\\x00\\x00\\xdf\\x1f\\x94\\xb9$\\xc8\\xa7\\xdbL\\xd7E\\xa9\\xf5\\x95\\xf7\\x865\\xc6\\x8c\\xa0\\x11a1]8\\x95\\xc8\\xabG\\xb2\\x14\\x0f\\x00\\x00\\x00\\x00@\\r\\x03\\x00\\x00\\x00\\x00\\x00\\x00\\x00\\x00\\x00\\x00\\x00\\x00\\x00\\x00\\x00\\x00\\x00\\x00\\x00\\x00\\x00\\x00\\x00\\x00\\x00\\x00\\x00\\x00\\x00\\x02\\x00\\x00\\x00\\x00\\x00\\x00\\x00\\x02\\x00\\x00\\x00\\x1d6\\ru$\\x19\\x06\\x00\\x00\\x00\\x00\\x00\\x00\\x00\\x00\\x00\\xd9\\x0bP\\xce&\\xa9\\xf4\\x05&\\x97\\x03\"\\xd3\\x1foX\\x17,\\x96-6\\xfb\\xed\\xce\\xb0]\\x95YZ\\x08\\x05_', feature_flags=0, creation_time=1716494235592061, parent=b'\\xea\\xb9/\\x12\\x0bf\\xd4\\xe7\\x90\\x05\\xc9\\xe2\\x7f\\x9c\\xbdN0\\x0cm\\x86\\x0f\\xbf\\xcc\\xeb\\x1cy\\xe3\\x80?\\xe0#(', adjacents={5: b'[\\x04@\\xbc\\xbd<\\x9d0\\xc0\\xb7x\\xdez5vDh^\\xc7--,\\xd55\\xfb\\x82\\xe5\\x96\\x07|H\\xc8', 10: b'\\x10\\x12\\x91\\xd9G$Ru\\xf0\\xb0]\\xa5\\xaa\\x10\\x1b\\x8b\\xc1\\x1e\\x85\\xa7azC\\tK\\xdc\\x18M\\xc6\\\\D\\x10', 15: b'\\x1cx\\xd3<@\\xe8\\xbb\\x84\\xc9\\xc8\\x8f>\\x1a{\\xa0y\\xb4\\xec\\x83\\xad\\xef:\\xb8{\\xcc\\x83\\x14]\\xe0\\x99k\\xaf'}, target=b'\\xa02\\xfe}\\xc6\\x85\\x03!Y\\xc0\\x04n\\xdd\\xcdS\\x1dr3\\xdc\\x80\\xcf\\x0f#\\x84G\\x1bG\\xac\\xc5\\xa7\\x00\\x00', payload_hash=b'\\xdf\\x1f\\x94\\xb9$\\xc8\\xa7\\xdbL\\xd7E\\xa9\\xf5\\x95\\xf7\\x865\\xc6\\x8c\\xa0\\x11a1]8\\x95\\xc8\\xabG\\xb2\\x14\\x0f', chain_id=0, weight=b'@\\r\\x03\\x00\\x00\\x00\\x00\\x00\\x00\\x00\\x00\\x00\\x00\\x00\\x00\\x00\\x00\\x00\\x00\\x00\\x00\\x00\\x00\\x00\\x00\\x00\\x00\\x00\\x00\\x00\\x00\\x00', height=2, chainweb_version=2, epoch_start=1716494233581085, nonce=b'\\x00\\x00\\x00\\x00\\x00\\x00\\x00\\x00', hash=b'\\xd9\\x0bP\\xce&\\xa9\\xf4\\x05&\\x97\\x03\"\\xd3\\x1foX\\x17,\\x96-6\\xfb\\xed\\xce\\xb0]\\x95YZ\\x08\\x05_', ADJACENT_COUNT=3, SIZE_IN_BYTES=318) BlockPayload(payload_hash=b'\\xdf\\x1f\\x94\\xb9$\\xc8\\xa7\\xdbL\\xd7E\\xa9\\xf5\\x95\\xf7\\x865\\xc6\\x8c\\xa0\\x11a1]8\\x95\\xc8\\xabG\\xb2\\x14\\x0f', transactions_hash=b'\\xd5\\xb4\\xb3\\x04P\\xe5\\xa1\\xb4\\x83\\xdez\\xa6\\x86\\x92Sz\\x9a\\x8b;\\xdc\\x03r:\\x930\\x931?Z\\x9cq\"', outputs_hash=b'\\xad\\xb2X\\xae}\\xd1dtf\\xaa\\xa6\\x10\\x9d\\xd4\\xd2\\x99.\\xe0\\xa84yX\\xc5\\x84J\\xd6\\x19\\x1b\\x9df\\xcfK', SIZE_IN_BYTES=96)\n",
      "3 Header(headerbytes=b'\\x00\\x00\\x00\\x00\\x00\\x00\\x00\\x00F\\xe9pu$\\x19\\x06\\x00\\xd9\\x0bP\\xce&\\xa9\\xf4\\x05&\\x97\\x03\"\\xd3\\x1foX\\x17,\\x96-6\\xfb\\xed\\xce\\xb0]\\x95YZ\\x08\\x05_\\x03\\x00\\x05\\x00\\x00\\x00\\x08\\xde\\x85=)\\x82Pj<\\xc7\\x1ap!\\t;9\\xced;\\x9b\\xda\\x11\\x044R\\xdaw\\x99\\x90\\xba\\xf4\\x14\\n\\x00\\x00\\x00\\xdf!\\xcc\\xa0\\x18\\xe0E\\xf7\\x88\\x0c]\\xfaz\\xdd\\x95O\\x00K\\xa4[\\x93#\\xd4:$\\xd6\\x9b\\xec\\xa8\\xb8\\xf6\\x9f\\x0f\\x00\\x00\\x00\\x0b\\x99n\\xc0\\xa4\\\\\\x10e\\x9a{CY\\x05\\x96\\x0e<#\\xe7\\xda\\xd9\\xedu\\x03\\xd7\\xfb;\\xc7\\xbc\\x9cr@l\\xa02\\xfe}\\xc6\\x85\\x03!Y\\xc0\\x04n\\xdd\\xcdS\\x1dr3\\xdc\\x80\\xcf\\x0f#\\x84G\\x1bG\\xac\\xc5\\xa7\\x00\\x00\\xcd\\xba\\xc0&\\xdb\\x8c\\x86\\x84\\x07\\'@(W\\xa9\\xc3\\xcf\\r\\xa0\\xf3\\xb5T\\xfbu\\xa4\\xa7\\xdd%\\xcf\\xa9\\xe3\\xc0\\xee\\x00\\x00\\x00\\x00\\xe0\\x93\\x04\\x00\\x00\\x00\\x00\\x00\\x00\\x00\\x00\\x00\\x00\\x00\\x00\\x00\\x00\\x00\\x00\\x00\\x00\\x00\\x00\\x00\\x00\\x00\\x00\\x00\\x00\\x00\\x00\\x00\\x03\\x00\\x00\\x00\\x00\\x00\\x00\\x00\\x02\\x00\\x00\\x00\\x1d6\\ru$\\x19\\x06\\x00\\x00\\x00\\x00\\x00\\x00\\x00\\x00\\x00q\\xf99\\x18\\xa6\\x14D8\\x84\\x91b\\xbf\\x10;\\xd49\\xd3\\x93\\xbf\\xaej\\xc0\\xa5/\\xe9l\\xdd\\xdce\\xa5\\xe9K', feature_flags=0, creation_time=1716494240115014, parent=b'\\xd9\\x0bP\\xce&\\xa9\\xf4\\x05&\\x97\\x03\"\\xd3\\x1foX\\x17,\\x96-6\\xfb\\xed\\xce\\xb0]\\x95YZ\\x08\\x05_', adjacents={5: b'\\x08\\xde\\x85=)\\x82Pj<\\xc7\\x1ap!\\t;9\\xced;\\x9b\\xda\\x11\\x044R\\xdaw\\x99\\x90\\xba\\xf4\\x14', 10: b'\\xdf!\\xcc\\xa0\\x18\\xe0E\\xf7\\x88\\x0c]\\xfaz\\xdd\\x95O\\x00K\\xa4[\\x93#\\xd4:$\\xd6\\x9b\\xec\\xa8\\xb8\\xf6\\x9f', 15: b'\\x0b\\x99n\\xc0\\xa4\\\\\\x10e\\x9a{CY\\x05\\x96\\x0e<#\\xe7\\xda\\xd9\\xedu\\x03\\xd7\\xfb;\\xc7\\xbc\\x9cr@l'}, target=b'\\xa02\\xfe}\\xc6\\x85\\x03!Y\\xc0\\x04n\\xdd\\xcdS\\x1dr3\\xdc\\x80\\xcf\\x0f#\\x84G\\x1bG\\xac\\xc5\\xa7\\x00\\x00', payload_hash=b\"\\xcd\\xba\\xc0&\\xdb\\x8c\\x86\\x84\\x07'@(W\\xa9\\xc3\\xcf\\r\\xa0\\xf3\\xb5T\\xfbu\\xa4\\xa7\\xdd%\\xcf\\xa9\\xe3\\xc0\\xee\", chain_id=0, weight=b'\\xe0\\x93\\x04\\x00\\x00\\x00\\x00\\x00\\x00\\x00\\x00\\x00\\x00\\x00\\x00\\x00\\x00\\x00\\x00\\x00\\x00\\x00\\x00\\x00\\x00\\x00\\x00\\x00\\x00\\x00\\x00\\x00', height=3, chainweb_version=2, epoch_start=1716494233581085, nonce=b'\\x00\\x00\\x00\\x00\\x00\\x00\\x00\\x00', hash=b'q\\xf99\\x18\\xa6\\x14D8\\x84\\x91b\\xbf\\x10;\\xd49\\xd3\\x93\\xbf\\xaej\\xc0\\xa5/\\xe9l\\xdd\\xdce\\xa5\\xe9K', ADJACENT_COUNT=3, SIZE_IN_BYTES=318) BlockPayload(payload_hash=b\"\\xcd\\xba\\xc0&\\xdb\\x8c\\x86\\x84\\x07'@(W\\xa9\\xc3\\xcf\\r\\xa0\\xf3\\xb5T\\xfbu\\xa4\\xa7\\xdd%\\xcf\\xa9\\xe3\\xc0\\xee\", transactions_hash=b'\\xd5\\xb4\\xb3\\x04P\\xe5\\xa1\\xb4\\x83\\xdez\\xa6\\x86\\x92Sz\\x9a\\x8b;\\xdc\\x03r:\\x930\\x931?Z\\x9cq\"', outputs_hash=b'\\x18\\x16\\x90S\\xcf1\\x9b\\x8adv\\x031\\xd5\\xec\\xc4\\x15\\x01n\\xf4P\\xf0\\xd1\\x9b:\\x1e_\\x83\\xc4\\x8c\\xf7F3', SIZE_IN_BYTES=96)\n",
      "4 Header(headerbytes=b\"\\x00\\x00\\x00\\x00\\x00\\x00\\x00\\x00?R\\x97u$\\x19\\x06\\x00q\\xf99\\x18\\xa6\\x14D8\\x84\\x91b\\xbf\\x10;\\xd49\\xd3\\x93\\xbf\\xaej\\xc0\\xa5/\\xe9l\\xdd\\xdce\\xa5\\xe9K\\x03\\x00\\x05\\x00\\x00\\x00f;\\x88\\x12\\xee\\xfd\\x01\\x84\\x0fC\\x87\\x82\\xf3o2'\\xd0j\\xae\\x1fr\\xd5\\xe8I9m\\xc45\\x94\\x88\\xd8b\\n\\x00\\x00\\x00/\\x03\\x17a\\x81%\\xf4\\xde\\xd2\\x07\\xdd\\x1ag\\xc9\\xfb\\x0e\\x8f\\xb17\\xc3\\xa4/\\r\\xd7\\xd6j\\xd8F$\\x02t\\x0e\\x0f\\x00\\x00\\x00\\xee_\\xa6Y\\xbdQ\\xafr\\x0e\\x16\\x1c9\\x9a/\\xef\\xee\\xdbn\\x8c\\\\\\x036\\xd0\\xb1\\x8b\\xfe\\x98\\xe8\\xd2\\xabJ\\x1b\\xa02\\xfe}\\xc6\\x85\\x03!Y\\xc0\\x04n\\xdd\\xcdS\\x1dr3\\xdc\\x80\\xcf\\x0f#\\x84G\\x1bG\\xac\\xc5\\xa7\\x00\\x00\\x1dx\\xc7\\x94\\x08e\\xd4\\xab=\\xe0l+\\t\\xbb\\xf4d\\xa1m\\xa1\\n\\xee\\x9d\\x8cF\\x8b{&\\x9f\\xfc0i\\xb7\\x00\\x00\\x00\\x00\\x80\\x1a\\x06\\x00\\x00\\x00\\x00\\x00\\x00\\x00\\x00\\x00\\x00\\x00\\x00\\x00\\x00\\x00\\x00\\x00\\x00\\x00\\x00\\x00\\x00\\x00\\x00\\x00\\x00\\x00\\x00\\x00\\x04\\x00\\x00\\x00\\x00\\x00\\x00\\x00\\x02\\x00\\x00\\x00\\x1d6\\ru$\\x19\\x06\\x00\\x00\\x00\\x00\\x00\\x00\\x00\\x00\\x00\\xac\\xcf\\xea\\xa9\\x9b\\xec\\xb5\\xa1,\\xf0M\\xd5\\x9bP\\xde\\xe3\\xb7\\xdf%\\xacqS\\x04\\xec\\xb2\\x8e\\xbdS\\x19G\\xd6\\x19\", feature_flags=0, creation_time=1716494242632255, parent=b'q\\xf99\\x18\\xa6\\x14D8\\x84\\x91b\\xbf\\x10;\\xd49\\xd3\\x93\\xbf\\xaej\\xc0\\xa5/\\xe9l\\xdd\\xdce\\xa5\\xe9K', adjacents={5: b\"f;\\x88\\x12\\xee\\xfd\\x01\\x84\\x0fC\\x87\\x82\\xf3o2'\\xd0j\\xae\\x1fr\\xd5\\xe8I9m\\xc45\\x94\\x88\\xd8b\", 10: b'/\\x03\\x17a\\x81%\\xf4\\xde\\xd2\\x07\\xdd\\x1ag\\xc9\\xfb\\x0e\\x8f\\xb17\\xc3\\xa4/\\r\\xd7\\xd6j\\xd8F$\\x02t\\x0e', 15: b'\\xee_\\xa6Y\\xbdQ\\xafr\\x0e\\x16\\x1c9\\x9a/\\xef\\xee\\xdbn\\x8c\\\\\\x036\\xd0\\xb1\\x8b\\xfe\\x98\\xe8\\xd2\\xabJ\\x1b'}, target=b'\\xa02\\xfe}\\xc6\\x85\\x03!Y\\xc0\\x04n\\xdd\\xcdS\\x1dr3\\xdc\\x80\\xcf\\x0f#\\x84G\\x1bG\\xac\\xc5\\xa7\\x00\\x00', payload_hash=b'\\x1dx\\xc7\\x94\\x08e\\xd4\\xab=\\xe0l+\\t\\xbb\\xf4d\\xa1m\\xa1\\n\\xee\\x9d\\x8cF\\x8b{&\\x9f\\xfc0i\\xb7', chain_id=0, weight=b'\\x80\\x1a\\x06\\x00\\x00\\x00\\x00\\x00\\x00\\x00\\x00\\x00\\x00\\x00\\x00\\x00\\x00\\x00\\x00\\x00\\x00\\x00\\x00\\x00\\x00\\x00\\x00\\x00\\x00\\x00\\x00\\x00', height=4, chainweb_version=2, epoch_start=1716494233581085, nonce=b'\\x00\\x00\\x00\\x00\\x00\\x00\\x00\\x00', hash=b'\\xac\\xcf\\xea\\xa9\\x9b\\xec\\xb5\\xa1,\\xf0M\\xd5\\x9bP\\xde\\xe3\\xb7\\xdf%\\xacqS\\x04\\xec\\xb2\\x8e\\xbdS\\x19G\\xd6\\x19', ADJACENT_COUNT=3, SIZE_IN_BYTES=318) BlockPayload(payload_hash=b'\\x1dx\\xc7\\x94\\x08e\\xd4\\xab=\\xe0l+\\t\\xbb\\xf4d\\xa1m\\xa1\\n\\xee\\x9d\\x8cF\\x8b{&\\x9f\\xfc0i\\xb7', transactions_hash=b'\\xd5\\xb4\\xb3\\x04P\\xe5\\xa1\\xb4\\x83\\xdez\\xa6\\x86\\x92Sz\\x9a\\x8b;\\xdc\\x03r:\\x930\\x931?Z\\x9cq\"', outputs_hash=b'q\\xd8\\x13*\\r\\xbd\\x9aFX\\xb3\\x00\\xd2:\\xd3{*\\x1b\\xa0\\xa2\\x9b\\x99\\xf7\\xdci\\x84\\xb4\\xf4\\x9f\\xad\\xde1\\x83', SIZE_IN_BYTES=96)\n"
     ]
    }
   ],
   "source": [
    "# This assumes that payload iteration is ordered by height.\n",
    "# Due to a bug in the new chainweb rocksdb backend this is not the case for\n",
    "# databases with more than 256 block heights.\n",
    "#\n",
    "# It can be used as a test case for proper ordering of payloads.\n",
    "#\n",
    "def block_iter(db, chain: ChainId) -> Iterator[tuple[int, Header, BlockPayload]]:\n",
    "    hit = iter(db.headers[chain])\n",
    "    pit = iter(db.payloads)\n",
    "    for h, hdr in hit:\n",
    "        while True:\n",
    "            ph, p = next(pit)\n",
    "            if ph < h:\n",
    "                continue\n",
    "            if ph > h:\n",
    "                raise Exception(f\"Payload {ph} not found for header {h}\")\n",
    "            if p.payload_hash == hdr.payload_hash:\n",
    "                yield (h, hdr, p)\n",
    "                break\n",
    "\n",
    "with ProvideChainwebDb(dbPath) as db:\n",
    "    for h, hdr, p in islice(block_iter(db, chain = ChainId(0)), 0, 5):\n",
    "        print(h, hdr, p)\n"
   ]
  },
  {
   "cell_type": "markdown",
   "metadata": {},
   "source": [
    "# Debug block validation failure"
   ]
  },
  {
   "cell_type": "code",
   "execution_count": 11,
   "metadata": {},
   "outputs": [],
   "source": [
    "import json\n",
    "import dictdiffer\n",
    "from chainweb.primitives import BlockHeight\n",
    "\n",
    "failure_file = os.getenv('CHAINWEB_FAILURE_FILE')"
   ]
  },
  {
   "cell_type": "code",
   "execution_count": 12,
   "metadata": {},
   "outputs": [],
   "source": [
    "# Utils\n",
    "\n",
    "def trim_logs(x):\n",
    "    if 'hash' in x['logs']:\n",
    "        x['logs'] = x['logs']['hash']\n",
    "    return x\n",
    "\n",
    "def get_failure_details(x):\n",
    "    return x['contents']['details'][0]\n"
   ]
  },
  {
   "cell_type": "code",
   "execution_count": 13,
   "metadata": {},
   "outputs": [],
   "source": [
    "# Read Failure JSON File\n",
    "with open(failure_file, \"r\") as fp:\n",
    "    r = json.load(fp)\n",
    "\n",
    "failure = get_failure_details(r)\n",
    "expected_output_hash = failure['mismatch']['expected']\n",
    "actual_coinbase = trim_logs(failure['outputs']['coinbase'])\n",
    "actual_tx_outputs = list(map(lambda x: trim_logs(x['result']), failure['outputs']['txs']))"
   ]
  },
  {
   "cell_type": "code",
   "execution_count": 14,
   "metadata": {},
   "outputs": [
    {
     "data": {
      "text/plain": [
       "{'hash': 'ICNCNiAXmvGTMqiYHo7QhT46RqOT26U1-i22YWnpCpo',\n",
       " 'sigs': [{'sig': '2d29616ec7164a67fb7b51a137eaa1ce65f5ff07e551d93a4c9d699db4b3ffcc6db0b7ea334032a79248890d2d4fc4f0e76a8cf21bf5706cc53cb00e46893a06'},\n",
       "  {'sig': 'e311d9e5d5656a221d135f231c9bb0122ce94561a4b06a95aaeacf6f30a0920502c00a48a887fb64fe756cab6226d8ac2e2017afdd36b9b6726f6e718ca00009'}],\n",
       " 'cmd': {'networkId': 'development',\n",
       "  'payload': {'exec': {'data': {'admin-keyset': ['368820f80c324bbc7c2b0610688a7da43e39f91d118732671cd9c7500ff43cca']},\n",
       "    'code': '(namespace \"ac7d37292-adcb-4d79-b815-0653257a283c\") \\n (interface iface\\n  (defun f:bool ()))\\n\\n(module evmodule G\\n\\n  (defcap G () true)\\n\\n  (implements iface)\\n\\n  (defun f:bool () true)\\n\\n  (defcap EVENT (mod:module{iface})\\n    @event true)\\n\\n  (defun emit(mod:module{iface})\\n    (emit-event (EVENT mod)))\\n\\n  (defun emit-transfer(sender:string receiver:string amount:decimal)\\n    (emit-event (coin.TRANSFER sender receiver amount))))\\n \\n\\n       (ac7d37292-adcb-4d79-b815-0653257a283c.evmodule.emit evmodule)'}},\n",
       "  'signers': [{'pubKey': '5514da3ad040788316f480e711dfbe8e88de920b1d849dd83b3a4c9058e691b8'},\n",
       "   {'pubKey': '368820f80c324bbc7c2b0610688a7da43e39f91d118732671cd9c7500ff43cca'}],\n",
       "  'meta': {'creationTime': 1716495673,\n",
       "   'ttl': 15000,\n",
       "   'gasLimit': 130000,\n",
       "   'chainId': '1',\n",
       "   'gasPrice': 1e-05,\n",
       "   'sender': 'test-sender'},\n",
       "  'nonce': '\"Emit event - expect success (emit.0.3)\"'}}"
      ]
     },
     "execution_count": 14,
     "metadata": {},
     "output_type": "execute_result"
    }
   ],
   "source": [
    "failure['outputs']['txs'][0]['tx']"
   ]
  },
  {
   "cell_type": "code",
   "execution_count": 15,
   "metadata": {},
   "outputs": [
    {
     "data": {
      "text/plain": [
       "[{'gas': 123309,\n",
       "  'result': {'status': 'success', 'data': True},\n",
       "  'reqKey': 'ICNCNiAXmvGTMqiYHo7QhT46RqOT26U1-i22YWnpCpo',\n",
       "  'logs': 'J4IUfJLZLxSV4eoGm08ih3fSmGVp2HXqZIFsDq8AMZg',\n",
       "  'events': [{'params': ['test-sender',\n",
       "     'k:f89ef46927f506c70b6a58fd322450a936311dc6ac91f4ec3d8ef949608dbf1f',\n",
       "     1.23309],\n",
       "    'name': 'TRANSFER',\n",
       "    'module': {'namespace': None, 'name': 'coin'},\n",
       "    'moduleHash': 'wOTjNC3gtOAjqgCY8S9hQ-LBiwcPUE7j4iBDE0TmdJo'},\n",
       "   {'params': [{'refSpec': [{'namespace': 'ac7d37292-adcb-4d79-b815-0653257a283c',\n",
       "        'name': 'iface'}],\n",
       "      'refName': {'namespace': 'ac7d37292-adcb-4d79-b815-0653257a283c',\n",
       "       'name': 'evmodule'}}],\n",
       "    'name': 'EVENT',\n",
       "    'module': {'namespace': 'ac7d37292-adcb-4d79-b815-0653257a283c',\n",
       "     'name': 'evmodule'},\n",
       "    'moduleHash': 'Qk5FPtZpUYpQaJjNFUx4xQDzyGPPuydOls0Y-8UVqo0'}],\n",
       "  'metaData': None,\n",
       "  'continuation': None,\n",
       "  'txId': 179}]"
      ]
     },
     "execution_count": 15,
     "metadata": {},
     "output_type": "execute_result"
    }
   ],
   "source": [
    "actual_tx_outputs"
   ]
  },
  {
   "cell_type": "code",
   "execution_count": 16,
   "metadata": {},
   "outputs": [],
   "source": [
    "# Get expected outputs form the DB\n",
    "with ProvideChainwebDb(dbPath) as db:\n",
    "    e = db.outputs.get(BlockHeight(152), read_hash(expected_output_hash))\n",
    "expected_outputs = e.outputs\n",
    "expected_coinbase = e.coinbase\n",
    "\n",
    "# display(expected_coinbase)\n",
    "# display(expected_outputs)"
   ]
  },
  {
   "cell_type": "code",
   "execution_count": 17,
   "metadata": {},
   "outputs": [
    {
     "data": {
      "text/plain": [
       "[{'gas': 123310,\n",
       "  'result': {'status': 'success', 'data': True},\n",
       "  'reqKey': 'ICNCNiAXmvGTMqiYHo7QhT46RqOT26U1-i22YWnpCpo',\n",
       "  'logs': '4aPWv4UvFH3MENv_bHnmMF-vEEugvXzKsNBW79LMfsA',\n",
       "  'events': [{'params': ['test-sender',\n",
       "     'k:f89ef46927f506c70b6a58fd322450a936311dc6ac91f4ec3d8ef949608dbf1f',\n",
       "     1.2331],\n",
       "    'name': 'TRANSFER',\n",
       "    'module': {'namespace': None, 'name': 'coin'},\n",
       "    'moduleHash': 'wOTjNC3gtOAjqgCY8S9hQ-LBiwcPUE7j4iBDE0TmdJo'},\n",
       "   {'params': [{'refSpec': [{'namespace': 'ac7d37292-adcb-4d79-b815-0653257a283c',\n",
       "        'name': 'iface'}],\n",
       "      'refName': {'namespace': 'ac7d37292-adcb-4d79-b815-0653257a283c',\n",
       "       'name': 'evmodule'}}],\n",
       "    'name': 'EVENT',\n",
       "    'module': {'namespace': 'ac7d37292-adcb-4d79-b815-0653257a283c',\n",
       "     'name': 'evmodule'},\n",
       "    'moduleHash': 'Qk5FPtZpUYpQaJjNFUx4xQDzyGPPuydOls0Y-8UVqo0'}],\n",
       "  'metaData': None,\n",
       "  'continuation': None,\n",
       "  'txId': 179}]"
      ]
     },
     "execution_count": 17,
     "metadata": {},
     "output_type": "execute_result"
    }
   ],
   "source": [
    "expected_outputs"
   ]
  },
  {
   "cell_type": "code",
   "execution_count": 18,
   "metadata": {},
   "outputs": [
    {
     "data": {
      "text/plain": [
       "[]"
      ]
     },
     "execution_count": 18,
     "metadata": {},
     "output_type": "execute_result"
    }
   ],
   "source": [
    "# Check for differences in coinbase output\n",
    "list(dictdiffer.diff(expected_coinbase, actual_coinbase))"
   ]
  },
  {
   "cell_type": "code",
   "execution_count": 19,
   "metadata": {},
   "outputs": [
    {
     "data": {
      "text/plain": [
       "[('change', 'gas', (123310, 123309)),\n",
       " ('change',\n",
       "  'logs',\n",
       "  ('4aPWv4UvFH3MENv_bHnmMF-vEEugvXzKsNBW79LMfsA',\n",
       "   'J4IUfJLZLxSV4eoGm08ih3fSmGVp2HXqZIFsDq8AMZg')),\n",
       " ('change', ['events', 0, 'params', 2], (1.2331, 1.23309))]"
      ]
     },
     "execution_count": 19,
     "metadata": {},
     "output_type": "execute_result"
    }
   ],
   "source": [
    "# Check for differences in tx outputs\n",
    "list(dictdiffer.diff(expected_outputs[0], actual_tx_outputs[0]))"
   ]
  },
  {
   "cell_type": "code",
   "execution_count": null,
   "metadata": {},
   "outputs": [],
   "source": []
  }
 ],
 "metadata": {
  "kernelspec": {
   "display_name": "Python 3",
   "language": "python",
   "name": "python3"
  },
  "language_info": {
   "codemirror_mode": {
    "name": "ipython",
    "version": 3
   },
   "file_extension": ".py",
   "mimetype": "text/x-python",
   "name": "python",
   "nbconvert_exporter": "python",
   "pygments_lexer": "ipython3",
   "version": "3.12.4"
  }
 },
 "nbformat": 4,
 "nbformat_minor": 2
}
